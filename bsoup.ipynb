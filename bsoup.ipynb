{
 "cells": [
  {
   "cell_type": "markdown",
   "id": "98fac8ab",
   "metadata": {},
   "source": [
    "# Desafio"
   ]
  },
  {
   "cell_type": "code",
   "execution_count": 1,
   "id": "1489633a",
   "metadata": {},
   "outputs": [],
   "source": [
    "import requests\n",
    "from bs4 import BeautifulSoup\n",
    "import pandas as pd\n",
    "\n",
    "url = 'http://vitibrasil.cnpuv.embrapa.br/index.php?opcao=opt_02'\n",
    "response = requests.get(url)"
   ]
  },
  {
   "cell_type": "code",
   "execution_count": 4,
   "id": "6eb4becd",
   "metadata": {},
   "outputs": [
    {
     "data": {
      "text/html": [
       "<div>\n",
       "<style scoped>\n",
       "    .dataframe tbody tr th:only-of-type {\n",
       "        vertical-align: middle;\n",
       "    }\n",
       "\n",
       "    .dataframe tbody tr th {\n",
       "        vertical-align: top;\n",
       "    }\n",
       "\n",
       "    .dataframe thead th {\n",
       "        text-align: right;\n",
       "    }\n",
       "</style>\n",
       "<table border=\"1\" class=\"dataframe\">\n",
       "  <thead>\n",
       "    <tr style=\"text-align: right;\">\n",
       "      <th></th>\n",
       "      <th>Produto</th>\n",
       "      <th>Quantidade (L.)</th>\n",
       "    </tr>\n",
       "  </thead>\n",
       "  <tbody>\n",
       "    <tr>\n",
       "      <th>0</th>\n",
       "      <td>VINHO DE MESA</td>\n",
       "      <td>169.762.429</td>\n",
       "    </tr>\n",
       "    <tr>\n",
       "      <th>1</th>\n",
       "      <td>Tinto</td>\n",
       "      <td>139.320.884</td>\n",
       "    </tr>\n",
       "    <tr>\n",
       "      <th>2</th>\n",
       "      <td>Branco</td>\n",
       "      <td>27.910.299</td>\n",
       "    </tr>\n",
       "    <tr>\n",
       "      <th>3</th>\n",
       "      <td>Rosado</td>\n",
       "      <td>2.531.246</td>\n",
       "    </tr>\n",
       "    <tr>\n",
       "      <th>4</th>\n",
       "      <td>VINHO FINO DE MESA (VINIFERA)</td>\n",
       "      <td>46.268.556</td>\n",
       "    </tr>\n",
       "  </tbody>\n",
       "</table>\n",
       "</div>"
      ],
      "text/plain": [
       "                         Produto Quantidade (L.)\n",
       "0                  VINHO DE MESA     169.762.429\n",
       "1                          Tinto     139.320.884\n",
       "2                         Branco      27.910.299\n",
       "3                         Rosado       2.531.246\n",
       "4  VINHO FINO DE MESA (VINIFERA)      46.268.556"
      ]
     },
     "execution_count": 4,
     "metadata": {},
     "output_type": "execute_result"
    }
   ],
   "source": [
    "response.raise_for_status()\n",
    "\n",
    "soup = BeautifulSoup(response.text, \"html.parser\")\n",
    "\n",
    "table = soup.find('table', {'class': 'tb_base tb_dados'})\n",
    "\n",
    "rows = table.find_all('tr')\n",
    "\n",
    "data = []\n",
    "\n",
    "for row in rows:\n",
    "    cells = row.find_all(['th', 'td']) #Inclui cabeçalhos (th) e dados (td)\n",
    "    cells_text = [cell.get_text(strip=True) for cell in cells]\n",
    "    data.append(cells_text)\n",
    "\n",
    "df = pd.DataFrame(data[1:], columns=data[0])\n",
    "df.head()"
   ]
  }
 ],
 "metadata": {
  "kernelspec": {
   "display_name": "env",
   "language": "python",
   "name": "python3"
  },
  "language_info": {
   "codemirror_mode": {
    "name": "ipython",
    "version": 3
   },
   "file_extension": ".py",
   "mimetype": "text/x-python",
   "name": "python",
   "nbconvert_exporter": "python",
   "pygments_lexer": "ipython3",
   "version": "3.13.0"
  }
 },
 "nbformat": 4,
 "nbformat_minor": 5
}
